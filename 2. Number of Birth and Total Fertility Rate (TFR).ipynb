{
 "cells": [
  {
   "cell_type": "markdown",
   "id": "7901c548",
   "metadata": {},
   "source": [
    "# Data Analysis on South Korea's Total Fertility Rate (TFR)"
   ]
  },
  {
   "cell_type": "markdown",
   "id": "9db33b96",
   "metadata": {},
   "source": [
    "## 2. Number of Birth and Total Fertility Rate (TFR)"
   ]
  },
  {
   "cell_type": "code",
   "execution_count": 15,
   "id": "01fc6da7",
   "metadata": {},
   "outputs": [],
   "source": [
    "import pandas as pd\n",
    "import matplotlib.pyplot as plt"
   ]
  },
  {
   "cell_type": "code",
   "execution_count": 16,
   "id": "9e3a6724",
   "metadata": {},
   "outputs": [
    {
     "data": {
      "text/html": [
       "<div>\n",
       "<style scoped>\n",
       "    .dataframe tbody tr th:only-of-type {\n",
       "        vertical-align: middle;\n",
       "    }\n",
       "\n",
       "    .dataframe tbody tr th {\n",
       "        vertical-align: top;\n",
       "    }\n",
       "\n",
       "    .dataframe thead th {\n",
       "        text-align: right;\n",
       "    }\n",
       "</style>\n",
       "<table border=\"1\" class=\"dataframe\">\n",
       "  <thead>\n",
       "    <tr style=\"text-align: right;\">\n",
       "      <th></th>\n",
       "      <th>1970</th>\n",
       "      <th>1971</th>\n",
       "      <th>1972</th>\n",
       "      <th>1973</th>\n",
       "      <th>1974</th>\n",
       "      <th>1975</th>\n",
       "      <th>1976</th>\n",
       "      <th>1977</th>\n",
       "      <th>1978</th>\n",
       "      <th>1979</th>\n",
       "      <th>...</th>\n",
       "      <th>2011</th>\n",
       "      <th>2012</th>\n",
       "      <th>2013</th>\n",
       "      <th>2014</th>\n",
       "      <th>2015</th>\n",
       "      <th>2016</th>\n",
       "      <th>2017</th>\n",
       "      <th>2018</th>\n",
       "      <th>2019</th>\n",
       "      <th>2020</th>\n",
       "    </tr>\n",
       "  </thead>\n",
       "  <tbody>\n",
       "    <tr>\n",
       "      <th>출생아 수</th>\n",
       "      <td>1,007.0</td>\n",
       "      <td>1,025.0</td>\n",
       "      <td>953.00</td>\n",
       "      <td>966.00</td>\n",
       "      <td>923.00</td>\n",
       "      <td>874.00</td>\n",
       "      <td>796.0</td>\n",
       "      <td>825.00</td>\n",
       "      <td>751.00</td>\n",
       "      <td>863.0</td>\n",
       "      <td>...</td>\n",
       "      <td>471.300</td>\n",
       "      <td>484.600</td>\n",
       "      <td>436.500</td>\n",
       "      <td>435.400</td>\n",
       "      <td>438.400</td>\n",
       "      <td>406.200</td>\n",
       "      <td>357.800</td>\n",
       "      <td>326.800</td>\n",
       "      <td>302.700</td>\n",
       "      <td>272.30</td>\n",
       "    </tr>\n",
       "    <tr>\n",
       "      <th>합계 출산율</th>\n",
       "      <td>4.530</td>\n",
       "      <td>4.540</td>\n",
       "      <td>4.12</td>\n",
       "      <td>4.07</td>\n",
       "      <td>3.77</td>\n",
       "      <td>3.43</td>\n",
       "      <td>3.0</td>\n",
       "      <td>2.99</td>\n",
       "      <td>2.64</td>\n",
       "      <td>2.9</td>\n",
       "      <td>...</td>\n",
       "      <td>1.244</td>\n",
       "      <td>1.297</td>\n",
       "      <td>1.187</td>\n",
       "      <td>1.205</td>\n",
       "      <td>1.239</td>\n",
       "      <td>1.172</td>\n",
       "      <td>1.052</td>\n",
       "      <td>0.977</td>\n",
       "      <td>0.918</td>\n",
       "      <td>0.84</td>\n",
       "    </tr>\n",
       "  </tbody>\n",
       "</table>\n",
       "<p>2 rows × 51 columns</p>\n",
       "</div>"
      ],
      "text/plain": [
       "           1970     1971    1972    1973    1974    1975   1976    1977  \\\n",
       "출생아 수   1,007.0  1,025.0  953.00  966.00  923.00  874.00  796.0  825.00   \n",
       "합계 출산율    4.530    4.540    4.12    4.07    3.77    3.43    3.0    2.99   \n",
       "\n",
       "          1978   1979  ...     2011     2012     2013     2014     2015  \\\n",
       "출생아 수   751.00  863.0  ...  471.300  484.600  436.500  435.400  438.400   \n",
       "합계 출산율    2.64    2.9  ...    1.244    1.297    1.187    1.205    1.239   \n",
       "\n",
       "           2016     2017     2018     2019    2020  \n",
       "출생아 수   406.200  357.800  326.800  302.700  272.30  \n",
       "합계 출산율    1.172    1.052    0.977    0.918    0.84  \n",
       "\n",
       "[2 rows x 51 columns]"
      ]
     },
     "execution_count": 16,
     "metadata": {},
     "output_type": "execute_result"
    }
   ],
   "source": [
    "df = pd.read_excel('stat_142801.xls', skiprows=2, nrows=2, index_col=0)\n",
    "df"
   ]
  },
  {
   "cell_type": "code",
   "execution_count": 17,
   "id": "d9e6b4fb",
   "metadata": {},
   "outputs": [],
   "source": [
    "# renaming row index\n",
    "df.index = ['Number of Birth', 'Total Fertility Rate']"
   ]
  },
  {
   "cell_type": "code",
   "execution_count": 18,
   "id": "d7fc9f8d",
   "metadata": {},
   "outputs": [],
   "source": [
    "df.drop(['1970', '1971'], axis=1, inplace=True)"
   ]
  },
  {
   "cell_type": "code",
   "execution_count": 19,
   "id": "7d7d9716",
   "metadata": {},
   "outputs": [
    {
     "data": {
      "text/html": [
       "<div>\n",
       "<style scoped>\n",
       "    .dataframe tbody tr th:only-of-type {\n",
       "        vertical-align: middle;\n",
       "    }\n",
       "\n",
       "    .dataframe tbody tr th {\n",
       "        vertical-align: top;\n",
       "    }\n",
       "\n",
       "    .dataframe thead th {\n",
       "        text-align: right;\n",
       "    }\n",
       "</style>\n",
       "<table border=\"1\" class=\"dataframe\">\n",
       "  <thead>\n",
       "    <tr style=\"text-align: right;\">\n",
       "      <th></th>\n",
       "      <th>Number of Birth</th>\n",
       "      <th>Total Fertility Rate</th>\n",
       "    </tr>\n",
       "  </thead>\n",
       "  <tbody>\n",
       "    <tr>\n",
       "      <th>1972</th>\n",
       "      <td>953.0</td>\n",
       "      <td>4.12</td>\n",
       "    </tr>\n",
       "    <tr>\n",
       "      <th>1973</th>\n",
       "      <td>966.0</td>\n",
       "      <td>4.07</td>\n",
       "    </tr>\n",
       "    <tr>\n",
       "      <th>1974</th>\n",
       "      <td>923.0</td>\n",
       "      <td>3.77</td>\n",
       "    </tr>\n",
       "    <tr>\n",
       "      <th>1975</th>\n",
       "      <td>874.0</td>\n",
       "      <td>3.43</td>\n",
       "    </tr>\n",
       "    <tr>\n",
       "      <th>1976</th>\n",
       "      <td>796.0</td>\n",
       "      <td>3.00</td>\n",
       "    </tr>\n",
       "  </tbody>\n",
       "</table>\n",
       "</div>"
      ],
      "text/plain": [
       "      Number of Birth  Total Fertility Rate\n",
       "1972            953.0                  4.12\n",
       "1973            966.0                  4.07\n",
       "1974            923.0                  3.77\n",
       "1975            874.0                  3.43\n",
       "1976            796.0                  3.00"
      ]
     },
     "execution_count": 19,
     "metadata": {},
     "output_type": "execute_result"
    }
   ],
   "source": [
    "df = df.T\n",
    "df.head()"
   ]
  },
  {
   "cell_type": "code",
   "execution_count": 67,
   "id": "38ef4c2e",
   "metadata": {},
   "outputs": [
    {
     "data": {
      "text/plain": [
       "<matplotlib.legend.Legend at 0x13635902b50>"
      ]
     },
     "execution_count": 67,
     "metadata": {},
     "output_type": "execute_result"
    },
    {
     "data": {
      "image/png": "[encoded data removed]",
      "text/plain": [
       "<Figure size 1080x504 with 2 Axes>"
      ]
     },
     "metadata": {
      "needs_background": "light"
     },
     "output_type": "display_data"
    }
   ],
   "source": [
    "fig,ax1 = plt.subplots(figsize=(15,7))\n",
    "fig.suptitle('Number of Birth and Total Fertility Rate (TFR)')\n",
    "ax1.set_ylabel('Number of Birth (in thousand)')\n",
    "ax1.set_ylim(250, 1100)\n",
    "ax1.set_yticks([300, 500, 700, 900, 1100])\n",
    "ax1.bar(df.index, df['Number of Birth'], color='darkorange')\n",
    "# for idx, val in enumerate(df['Number of Birth']):\n",
    "#     ax1.text(idx, val + 10, val, ha='center')    \n",
    "\n",
    "ax2 = ax1.twinx()\n",
    "ax2.set_ylabel('Total Fertility Rate (per 1 female)')\n",
    "ax2.set_ylim(0, 5)\n",
    "ax2.set_yticks([0, 1, 2, 3, 4, 5])\n",
    "\n",
    "ticks = []\n",
    "for tick in range(50):\n",
    "    if tick % 10 == 0 or tick % 5 ==0:\n",
    "        ticks.append(tick)\n",
    "        \n",
    "plt.xticks(ticks)\n",
    "ax2.plot(df.index, df['Total Fertility Rate'], color='darkblue', ls='--', lw=3, label = 'Total Fertility Rate')\n",
    "plt.legend(loc='best')\n",
    "# for idx, val in enumerate(df['Total Fertility Rate']):\n",
    "#     ax2.text(idx, val + 0.075, val, ha='center')"
   ]
  },
  {
   "cell_type": "code",
   "execution_count": null,
   "id": "056dd905",
   "metadata": {},
   "outputs": [],
   "source": []
  },
  {
   "cell_type": "code",
   "execution_count": null,
   "id": "88b60226",
   "metadata": {},
   "outputs": [],
   "source": []
  },
  {
   "cell_type": "code",
   "execution_count": null,
   "id": "ba6f1bf9",
   "metadata": {},
   "outputs": [],
   "source": []
  }
 ],
 "metadata": {
  "kernelspec": {
   "display_name": "Python 3",
   "language": "python",
   "name": "python3"
  },
  "language_info": {
   "codemirror_mode": {
    "name": "ipython",
    "version": 3
   },
   "file_extension": ".py",
   "mimetype": "text/x-python",
   "name": "python",
   "nbconvert_exporter": "python",
   "pygments_lexer": "ipython3",
   "version": "3.8.8"
  }
 },
 "nbformat": 4,
 "nbformat_minor": 5
}
